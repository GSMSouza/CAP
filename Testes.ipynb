{
 "cells": [
  {
   "cell_type": "code",
   "execution_count": 1,
   "metadata": {},
   "outputs": [],
   "source": [
    "from clusterga.ga import ga\n",
    "import numpy as np\n",
    "import pandas as pd\n",
    "import matplotlib.pyplot as plt\n",
    "from sklearn.metrics import pairwise_distances_argmin\n",
    "from mpl_toolkits.mplot3d import axes3d\n",
    "import matplotlib.pyplot as plt"
   ]
  },
  {
   "cell_type": "code",
   "execution_count": 2,
   "metadata": {},
   "outputs": [],
   "source": [
    "df = pd.read_csv('./data/data.csv', delimiter=';')\n",
    "df2 = pd.read_csv('./data/data2.csv', delimiter=';')\n",
    "a = df2['Z-Estimate'].tolist()\n",
    "df['Z2-Estimate'] = a\n",
    "df = df[['Z-Estimate', 'Z2-Estimate']]\n",
    "X = df.values\n",
    "BBox = ((df2['X-Coordinate'].min(),   df2['X-Coordinate'].max(),      \n",
    "         df2['Y-Coordinate'].min(), df2['Y-Coordinate'].max()))"
   ]
  },
  {
   "cell_type": "code",
   "execution_count": 5,
   "metadata": {},
   "outputs": [
    {
     "name": "stderr",
     "output_type": "stream",
     "text": [
      "No handles with labels found to put in legend.\n"
     ]
    },
    {
     "data": {
      "text/plain": [
       "<matplotlib.legend.Legend at 0x7fe8f73e5e20>"
      ]
     },
     "execution_count": 5,
     "metadata": {},
     "output_type": "execute_result"
    },
    {
     "data": {
      "image/png": "[encoded data removed]",
      "text/plain": [
       "<Figure size 432x288 with 1 Axes>"
      ]
     },
     "metadata": {
      "needs_background": "light"
     },
     "output_type": "display_data"
    }
   ],
   "source": [
    "plt.scatter(X[:, 0], X[:, 1], c='tab:red')\n",
    "plt.legend()"
   ]
  },
  {
   "cell_type": "code",
   "execution_count": 3,
   "metadata": {
    "scrolled": false
   },
   "outputs": [
    {
     "data": {
      "image/png": "[encoded data removed]",
      "text/plain": [
       "<Figure size 432x288 with 1 Axes>"
      ]
     },
     "metadata": {
      "needs_background": "light"
     },
     "output_type": "display_data"
    },
    {
     "name": "stdout",
     "output_type": "stream",
     "text": [
      "CPU times: user 44min 51s, sys: 3min 57s, total: 48min 49s\n",
      "Wall time: 8min 11s\n"
     ]
    }
   ],
   "source": [
    "%%time\n",
    "individual = ga(X,fitness_function=\"CalinskiHarabaz\", gen=100, \n",
    "                p_crossover=0.5, p_mutation=0.1,population_operator=\"BalancedPopulationForSamples\", \n",
    "                selection_operator=\"Tournament\", crossover_operator=\"Merge\", seed=2)"
   ]
  },
  {
   "cell_type": "code",
   "execution_count": 4,
   "metadata": {},
   "outputs": [
    {
     "data": {
      "text/plain": [
       "array([[15.73720046,  5.13834202],\n",
       "       [14.64661602,  5.223732  ]])"
      ]
     },
     "execution_count": 4,
     "metadata": {},
     "output_type": "execute_result"
    }
   ],
   "source": [
    "individual[0].chromosome"
   ]
  },
  {
   "cell_type": "code",
   "execution_count": 6,
   "metadata": {},
   "outputs": [
    {
     "name": "stdout",
     "output_type": "stream",
     "text": [
      "(2, 2)\n",
      "\n",
      "(44, 2)\n",
      "\n",
      "(44, 2)\n",
      "\n",
      "(48, 2)\n",
      "\n",
      "(47, 2)\n",
      "\n",
      "(43, 2)\n",
      "\n",
      "(48, 2)\n",
      "\n",
      "(44, 2)\n",
      "\n",
      "(45, 2)\n",
      "\n",
      "(45, 2)\n",
      "\n",
      "(45, 2)\n",
      "\n",
      "(45, 2)\n",
      "\n",
      "(46, 2)\n",
      "\n",
      "(44, 2)\n",
      "\n",
      "(44, 2)\n",
      "\n",
      "(46, 2)\n",
      "\n",
      "(44, 2)\n",
      "\n",
      "(46, 2)\n",
      "\n",
      "(45, 2)\n",
      "\n",
      "(45, 2)\n",
      "\n",
      "(45, 2)\n",
      "\n",
      "(46, 2)\n",
      "\n",
      "(44, 2)\n",
      "\n",
      "(46, 2)\n",
      "\n",
      "(45, 2)\n",
      "\n",
      "(49, 2)\n",
      "\n",
      "(47, 2)\n",
      "\n",
      "(51, 2)\n",
      "\n",
      "(46, 2)\n",
      "\n",
      "(44, 2)\n",
      "\n",
      "(45, 2)\n",
      "\n",
      "(50, 2)\n",
      "\n",
      "(48, 2)\n",
      "\n",
      "(44, 2)\n",
      "\n",
      "(48, 2)\n",
      "\n",
      "(44, 2)\n",
      "\n",
      "(47, 2)\n",
      "\n",
      "(47, 2)\n",
      "\n",
      "(49, 2)\n",
      "\n",
      "(46, 2)\n",
      "\n"
     ]
    }
   ],
   "source": [
    "for i in individual:\n",
    "    print(i.chromosome.shape)\n",
    "    print()"
   ]
  },
  {
   "cell_type": "code",
   "execution_count": null,
   "metadata": {},
   "outputs": [],
   "source": []
  }
 ],
 "metadata": {
  "kernelspec": {
   "display_name": "Python 3",
   "language": "python",
   "name": "python3"
  },
  "language_info": {
   "codemirror_mode": {
    "name": "ipython",
    "version": 3
   },
   "file_extension": ".py",
   "mimetype": "text/x-python",
   "name": "python",
   "nbconvert_exporter": "python",
   "pygments_lexer": "ipython3",
   "version": "3.8.3"
  }
 },
 "nbformat": 4,
 "nbformat_minor": 4
}
